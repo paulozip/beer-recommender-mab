{
 "cells": [
  {
   "cell_type": "code",
   "execution_count": 1,
   "metadata": {},
   "outputs": [],
   "source": [
    "import pandas as pd\n",
    "import urllib.request\n",
    "\n",
    "from uuid import uuid1\n",
    "from time import sleep"
   ]
  },
  {
   "cell_type": "code",
   "execution_count": 2,
   "metadata": {},
   "outputs": [],
   "source": [
    "def download_beer_image(data, retries=3):\n",
    "    '''\n",
    "    Download a beer image using an URL\n",
    "    \n",
    "    Args.:\n",
    "        data (Pandas DataFrame): a Pandas DataFrame containing two columns named image_url and id\n",
    "    '''\n",
    "    retry_count = 1\n",
    "    while retry_count <= retries:\n",
    "        try:\n",
    "            # Downloading image\n",
    "            urllib.request.urlretrieve(data.loc['image_url'], ''.join(['../data/img/', data.loc['id'], '.jpg']))\n",
    "            break\n",
    "        except urllib.error.HTTPError:\n",
    "            print('error while downloading {}. Trying again ({}/{})'.format(data.brand, retry_count, retries))\n",
    "            retry_count += 1\n",
    "            sleep(5)"
   ]
  },
  {
   "cell_type": "markdown",
   "metadata": {},
   "source": [
    "# Reading data"
   ]
  },
  {
   "cell_type": "code",
   "execution_count": 3,
   "metadata": {},
   "outputs": [
    {
     "data": {
      "text/html": [
       "<div>\n",
       "<style scoped>\n",
       "    .dataframe tbody tr th:only-of-type {\n",
       "        vertical-align: middle;\n",
       "    }\n",
       "\n",
       "    .dataframe tbody tr th {\n",
       "        vertical-align: top;\n",
       "    }\n",
       "\n",
       "    .dataframe thead th {\n",
       "        text-align: right;\n",
       "    }\n",
       "</style>\n",
       "<table border=\"1\" class=\"dataframe\">\n",
       "  <thead>\n",
       "    <tr style=\"text-align: right;\">\n",
       "      <th></th>\n",
       "      <th>id</th>\n",
       "      <th>brand</th>\n",
       "      <th>image_url</th>\n",
       "    </tr>\n",
       "  </thead>\n",
       "  <tbody>\n",
       "    <tr>\n",
       "      <th>0</th>\n",
       "      <td>NaN</td>\n",
       "      <td>Chopp Brahma</td>\n",
       "      <td>https://i2marabraz-a.akamaihd.net/1800x1800/59...</td>\n",
       "    </tr>\n",
       "    <tr>\n",
       "      <th>1</th>\n",
       "      <td>NaN</td>\n",
       "      <td>Bavária</td>\n",
       "      <td>https://static.carrefour.com.br/medias/sys_mas...</td>\n",
       "    </tr>\n",
       "    <tr>\n",
       "      <th>2</th>\n",
       "      <td>NaN</td>\n",
       "      <td>Bohemia</td>\n",
       "      <td>https://static.carrefour.com.br/medias/sys_mas...</td>\n",
       "    </tr>\n",
       "    <tr>\n",
       "      <th>3</th>\n",
       "      <td>NaN</td>\n",
       "      <td>Crystal</td>\n",
       "      <td>https://static.carrefour.com.br/medias/sys_mas...</td>\n",
       "    </tr>\n",
       "    <tr>\n",
       "      <th>4</th>\n",
       "      <td>NaN</td>\n",
       "      <td>Kaiser</td>\n",
       "      <td>https://static.carrefour.com.br/medias/sys_mas...</td>\n",
       "    </tr>\n",
       "  </tbody>\n",
       "</table>\n",
       "</div>"
      ],
      "text/plain": [
       "   id         brand                                          image_url\n",
       "0 NaN  Chopp Brahma  https://i2marabraz-a.akamaihd.net/1800x1800/59...\n",
       "1 NaN       Bavária  https://static.carrefour.com.br/medias/sys_mas...\n",
       "2 NaN       Bohemia  https://static.carrefour.com.br/medias/sys_mas...\n",
       "3 NaN       Crystal  https://static.carrefour.com.br/medias/sys_mas...\n",
       "4 NaN        Kaiser  https://static.carrefour.com.br/medias/sys_mas..."
      ]
     },
     "execution_count": 3,
     "metadata": {},
     "output_type": "execute_result"
    }
   ],
   "source": [
    "df = pd.read_csv('../data/csv/raw_dataset.csv')\n",
    "df.head()"
   ]
  },
  {
   "cell_type": "markdown",
   "metadata": {},
   "source": [
    "## Strip data"
   ]
  },
  {
   "cell_type": "code",
   "execution_count": 4,
   "metadata": {},
   "outputs": [],
   "source": [
    "df['brand'] = df['brand'].str.strip()"
   ]
  },
  {
   "cell_type": "markdown",
   "metadata": {},
   "source": [
    "## Creating Id column"
   ]
  },
  {
   "cell_type": "code",
   "execution_count": 5,
   "metadata": {},
   "outputs": [],
   "source": [
    "df['id'] = [uuid1().hex for _ in range(df.shape[0])]"
   ]
  },
  {
   "cell_type": "markdown",
   "metadata": {},
   "source": [
    "# Downloading beer images"
   ]
  },
  {
   "cell_type": "code",
   "execution_count": 7,
   "metadata": {},
   "outputs": [
    {
     "data": {
      "text/html": [
       "<div>\n",
       "<style scoped>\n",
       "    .dataframe tbody tr th:only-of-type {\n",
       "        vertical-align: middle;\n",
       "    }\n",
       "\n",
       "    .dataframe tbody tr th {\n",
       "        vertical-align: top;\n",
       "    }\n",
       "\n",
       "    .dataframe thead th {\n",
       "        text-align: right;\n",
       "    }\n",
       "</style>\n",
       "<table border=\"1\" class=\"dataframe\">\n",
       "  <thead>\n",
       "    <tr style=\"text-align: right;\">\n",
       "      <th></th>\n",
       "      <th>id</th>\n",
       "      <th>brand</th>\n",
       "      <th>image_url</th>\n",
       "    </tr>\n",
       "  </thead>\n",
       "  <tbody>\n",
       "    <tr>\n",
       "      <th>34</th>\n",
       "      <td>b95c5423045011eb926cc86000ef9ed1</td>\n",
       "      <td>Wäls</td>\n",
       "      <td>https://cdn.awsli.com.br/600x450/1343/1343273/...</td>\n",
       "    </tr>\n",
       "    <tr>\n",
       "      <th>35</th>\n",
       "      <td>b95c7b14045011eba142c86000ef9ed1</td>\n",
       "      <td>Amazon Beer</td>\n",
       "      <td>https://shopfacil.vteximg.com.br/arquivos/ids/...</td>\n",
       "    </tr>\n",
       "    <tr>\n",
       "      <th>36</th>\n",
       "      <td>b95c7b15045011ebbd85c86000ef9ed1</td>\n",
       "      <td>Dogma</td>\n",
       "      <td>https://d2o1s8t60x9u9v.cloudfront.net/Custom/C...</td>\n",
       "    </tr>\n",
       "    <tr>\n",
       "      <th>37</th>\n",
       "      <td>b95c7b16045011eba615c86000ef9ed1</td>\n",
       "      <td>Heilige</td>\n",
       "      <td>https://statics.angeloni.com.br/super/files/pr...</td>\n",
       "    </tr>\n",
       "    <tr>\n",
       "      <th>38</th>\n",
       "      <td>b95c7b17045011ebb41ec86000ef9ed1</td>\n",
       "      <td>Colombina</td>\n",
       "      <td>https://www.mywinery.com.br/image/cache/data/P...</td>\n",
       "    </tr>\n",
       "  </tbody>\n",
       "</table>\n",
       "</div>"
      ],
      "text/plain": [
       "                                  id        brand  \\\n",
       "34  b95c5423045011eb926cc86000ef9ed1         Wäls   \n",
       "35  b95c7b14045011eba142c86000ef9ed1  Amazon Beer   \n",
       "36  b95c7b15045011ebbd85c86000ef9ed1        Dogma   \n",
       "37  b95c7b16045011eba615c86000ef9ed1      Heilige   \n",
       "38  b95c7b17045011ebb41ec86000ef9ed1    Colombina   \n",
       "\n",
       "                                            image_url  \n",
       "34  https://cdn.awsli.com.br/600x450/1343/1343273/...  \n",
       "35  https://shopfacil.vteximg.com.br/arquivos/ids/...  \n",
       "36  https://d2o1s8t60x9u9v.cloudfront.net/Custom/C...  \n",
       "37  https://statics.angeloni.com.br/super/files/pr...  \n",
       "38  https://www.mywinery.com.br/image/cache/data/P...  "
      ]
     },
     "execution_count": 7,
     "metadata": {},
     "output_type": "execute_result"
    }
   ],
   "source": [
    "df.apply(download_beer_image, axis=1)\n",
    "df.tail()"
   ]
  }
 ],
 "metadata": {
  "kernelspec": {
   "display_name": "Python 3",
   "language": "python",
   "name": "python3"
  },
  "language_info": {
   "codemirror_mode": {
    "name": "ipython",
    "version": 3
   },
   "file_extension": ".py",
   "mimetype": "text/x-python",
   "name": "python",
   "nbconvert_exporter": "python",
   "pygments_lexer": "ipython3",
   "version": "3.6.4"
  }
 },
 "nbformat": 4,
 "nbformat_minor": 2
}
